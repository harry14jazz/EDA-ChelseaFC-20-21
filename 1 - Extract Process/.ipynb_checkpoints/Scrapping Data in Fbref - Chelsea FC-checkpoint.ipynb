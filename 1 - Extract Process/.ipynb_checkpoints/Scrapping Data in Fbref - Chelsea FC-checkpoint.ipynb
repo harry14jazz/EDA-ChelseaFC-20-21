{
 "cells": [
  {
   "cell_type": "markdown",
   "metadata": {},
   "source": [
    "# Import Libraries"
   ]
  },
  {
   "cell_type": "code",
   "execution_count": 1,
   "metadata": {},
   "outputs": [],
   "source": [
    "from urllib.request import urlopen\n",
    "from bs4 import BeautifulSoup\n",
    "import pandas as pd\n",
    "import matplotlib.pyplot as plt\n",
    "import seaborn as sns\n",
    "import numpy as np\n",
    "pd.set_option('display.max_columns', 500)"
   ]
  },
  {
   "cell_type": "markdown",
   "metadata": {},
   "source": [
    "------------------------------------------------------------------------------------------------------------------------------"
   ]
  },
  {
   "cell_type": "markdown",
   "metadata": {},
   "source": [
    "# url & basic requirements"
   ]
  },
  {
   "cell_type": "code",
   "execution_count": 2,
   "metadata": {},
   "outputs": [],
   "source": [
    "url = 'https://fbref.com/en/squads/cff3d9bb/2020-2021/s10728/Chelsea-Stats-Premier-League'\n",
    "html = urlopen(url)\n",
    "soup = BeautifulSoup(html)"
   ]
  },
  {
   "cell_type": "markdown",
   "metadata": {},
   "source": [
    "# Create Functions\n",
    "- Get Table Headers\n",
    "- Get Data From Table"
   ]
  },
  {
   "cell_type": "markdown",
   "metadata": {},
   "source": [
    "## - Get Tabele Headers"
   ]
  },
  {
   "cell_type": "code",
   "execution_count": 3,
   "metadata": {},
   "outputs": [],
   "source": [
    "def get_tbl_headers(table_id):\n",
    "    standard_stats = soup.find(id=table_id)\n",
    "    table_headers = standard_stats.findAll('th')\n",
    "    headers = [head_text.getText() for head_text in table_headers]\n",
    "\n",
    "    start = 'Player'\n",
    "    end = 'Matches'        \n",
    "    fix_headers = headers[headers.index(start):headers.index(end)+1]\n",
    "    return fix_headers"
   ]
  },
  {
   "cell_type": "markdown",
   "metadata": {},
   "source": [
    "## - Get Data From Table"
   ]
  },
  {
   "cell_type": "code",
   "execution_count": 4,
   "metadata": {},
   "outputs": [],
   "source": [
    "def get_tbl_body(table_id):\n",
    "    data = []\n",
    "    standard_stats = soup.find(id=table_id)\n",
    "    table_body = standard_stats.find('tbody')\n",
    "    rows = table_body.find_all('tr')\n",
    "    for row in rows:\n",
    "        cols = row.find_all(['th', 'td'])\n",
    "        cols = [value.getText() for value in cols]\n",
    "        data.append([value for value in cols if value])\n",
    "    return data"
   ]
  },
  {
   "cell_type": "markdown",
   "metadata": {},
   "source": [
    "# 1. Standard Stats\n",
    "table id = 'stats_standard_10728'"
   ]
  },
  {
   "cell_type": "code",
   "execution_count": 8,
   "metadata": {},
   "outputs": [],
   "source": [
    "t_head = get_tbl_headers('stats_standard_10728')\n",
    "t_body = get_tbl_body('stats_standard_10728')\n",
    "\n",
    "#edit dupilcate column names\n",
    "for i in range (15,20):\n",
    "    t_head[i] = t_head[i]+'_p90'\n",
    "    \n",
    "for i in range (24, 29):\n",
    "    t_head[i] = t_head[i]+'_p90'\n",
    "\n",
    "# create dataframe\n",
    "standar_stats_df = pd.DataFrame(t_body, columns=t_head)\n",
    "\n",
    "# store the dataframe to csv\n",
    "standar_stats_df.to_csv (r'D:\\Fbref_Project\\1 - Extract Process\\Extracted_Dataframe\\standard_stats.csv',\n",
    "                         index = False, header=True)"
   ]
  },
  {
   "cell_type": "markdown",
   "metadata": {},
   "source": [
    "# 2. Goalkeeping Stats\n",
    "table id = 'stats_keeper_10728'"
   ]
  },
  {
   "cell_type": "code",
   "execution_count": 11,
   "metadata": {},
   "outputs": [],
   "source": [
    "t_head = get_tbl_headers('stats_keeper_10728')\n",
    "t_body = get_tbl_body('stats_keeper_10728')\n",
    "\n",
    "# create dataframe\n",
    "gk_stats_df = pd.DataFrame(t_body, columns=t_head)\n",
    "\n",
    "# store the dataframe to csv\n",
    "gk_stats_df.to_csv (r'D:\\Fbref_Project\\1 - Extract Process\\Extracted_Dataframe\\goalkeeping_stats.csv',\n",
    "                         index = False, header=True)"
   ]
  },
  {
   "cell_type": "markdown",
   "metadata": {},
   "source": [
    "# 3. Shooting Stats\n",
    "table_id = 'stats_shooting_10728'"
   ]
  },
  {
   "cell_type": "code",
   "execution_count": 13,
   "metadata": {},
   "outputs": [],
   "source": [
    "t_head = get_tbl_headers('stats_shooting_10728')\n",
    "t_body = get_tbl_body('stats_shooting_10728')\n",
    "\n",
    "# create dataframe\n",
    "shooting_stats_df = pd.DataFrame(t_body, columns=t_head)\n",
    "\n",
    "# store the dataframe to csv\n",
    "shooting_stats_df.to_csv (r'D:\\Fbref_Project\\1 - Extract Process\\Extracted_Dataframe\\shooting_stats.csv',\n",
    "                         index = False, header=True)"
   ]
  },
  {
   "cell_type": "markdown",
   "metadata": {},
   "source": [
    "# 4. Passing Stats\n",
    "table_id = 'stats_passing_10728'"
   ]
  },
  {
   "cell_type": "code",
   "execution_count": 32,
   "metadata": {},
   "outputs": [],
   "source": [
    "t_head = get_tbl_headers('stats_passing_10728')\n",
    "t_body = get_tbl_body('stats_passing_10728')\n",
    "\n",
    "for i in range (5,10):\n",
    "    t_head[i] = t_head[i]+'_tot'\n",
    "    \n",
    "for i in range (10,13):\n",
    "    t_head[i] = t_head[i]+'_srt'\n",
    "    \n",
    "for i in range (13,16):\n",
    "    t_head[i] = t_head[i]+'_med'\n",
    "    \n",
    "for i in range (16,19):\n",
    "    t_head[i] = t_head[i]+'_lon'\n",
    "\n",
    "# create dataframe\n",
    "passing_stats_df = pd.DataFrame(t_body, columns=t_head)\n",
    "\n",
    "# store the dataframe to csv\n",
    "passing_stats_df.to_csv (r'D:\\Fbref_Project\\1 - Extract Process\\Extracted_Dataframe\\passing_stats.csv',\n",
    "                         index = False, header=True)"
   ]
  },
  {
   "cell_type": "markdown",
   "metadata": {},
   "source": [
    "# 5. Possesion Stats\n",
    "table_id = 'stats_possession_10728'"
   ]
  },
  {
   "cell_type": "code",
   "execution_count": 33,
   "metadata": {},
   "outputs": [],
   "source": [
    "t_head = get_tbl_headers('stats_possession_10728')\n",
    "t_body = get_tbl_body('stats_possession_10728')\n",
    "\n",
    "# create dataframe\n",
    "possesion_stats_df = pd.DataFrame(t_body, columns=t_head)\n",
    "\n",
    "# store the dataframe to csv\n",
    "possesion_stats_df.to_csv (r'D:\\Fbref_Project\\1 - Extract Process\\Extracted_Dataframe\\possesion_stats.csv',\n",
    "                         index = False, header=True)"
   ]
  }
 ],
 "metadata": {
  "kernelspec": {
   "display_name": "Python 3",
   "language": "python",
   "name": "python3"
  },
  "language_info": {
   "codemirror_mode": {
    "name": "ipython",
    "version": 3
   },
   "file_extension": ".py",
   "mimetype": "text/x-python",
   "name": "python",
   "nbconvert_exporter": "python",
   "pygments_lexer": "ipython3",
   "version": "3.8.5"
  }
 },
 "nbformat": 4,
 "nbformat_minor": 4
}
